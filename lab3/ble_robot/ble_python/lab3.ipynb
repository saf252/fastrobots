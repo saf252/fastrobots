{
 "cells": [
  {
   "cell_type": "markdown",
   "id": "7273a551-7d85-4c8d-8bf1-59bce87d7995",
   "metadata": {},
   "source": [
    "## Import Modules"
   ]
  },
  {
   "cell_type": "code",
   "execution_count": null,
   "id": "f40c4be7-c621-4d43-9aa4-2afeb1756820",
   "metadata": {},
   "outputs": [],
   "source": [
    "%load_ext autoreload\n",
    "%autoreload 2\n",
    "\n",
    "from ble import get_ble_controller\n",
    "from base_ble import LOG\n",
    "from cmd_types import CMD\n",
    "from ble_rx_stream import *\n",
    "import time\n",
    "import numpy as np\n",
    "import matplotlib.pyplot as plt\n",
    "\n",
    "LOG.propagate = False"
   ]
  },
  {
   "cell_type": "markdown",
   "id": "530993d0-df26-48a6-9c1c-5424a0ae2f33",
   "metadata": {},
   "source": [
    "## Connect to Artemis"
   ]
  },
  {
   "cell_type": "code",
   "execution_count": null,
   "id": "2e215887-1451-4917-83d3-23c1d1e55423",
   "metadata": {},
   "outputs": [],
   "source": [
    "# Get ArtemisBLEController object\n",
    "ble = get_ble_controller()\n",
    "\n",
    "# Connect to the Artemis Device\n",
    "ble.connect()"
   ]
  },
  {
   "cell_type": "markdown",
   "id": "1a4ea64b-5640-4578-8f70-c7a0ddbf442c",
   "metadata": {},
   "source": [
    "## Send command and receive response"
   ]
  },
  {
   "cell_type": "code",
   "execution_count": null,
   "id": "999e0a21-873a-4895-98e3-59d24d10644f",
   "metadata": {},
   "outputs": [],
   "source": [
    "ble.send_command(CMD.GET_TOF_TIME, \"1000\")\n",
    "s = ble_rx_stream(ble, 'RX_STREAM')\n",
    "stream_data = list(unpack_stream('lH*', s))"
   ]
  },
  {
   "cell_type": "markdown",
   "id": "f9b30dd2-2408-4061-b0d0-0034c788f9ee",
   "metadata": {},
   "source": [
    "## Process and plot data"
   ]
  },
  {
   "cell_type": "code",
   "execution_count": null,
   "id": "9e10a343-84a7-4cce-92e6-6df59f719bb0",
   "metadata": {},
   "outputs": [],
   "source": [
    "data = np.array(stream_data)\n",
    "sensor1 = data[data[:,0] >= 0, :]\n",
    "sensor2 = data[data[:,0] < 0, :]\n",
    "sensor2[:,0] = ~sensor2[:,0]"
   ]
  },
  {
   "cell_type": "code",
   "execution_count": null,
   "id": "4ea9b235-4b3b-4d9f-a37f-8651c9385d68",
   "metadata": {},
   "outputs": [],
   "source": [
    "plt.plot(sensor1[:,0], sensor1[:,1], label='Sensor 1')\n",
    "plt.plot(sensor2[:,0], sensor2[:,1], label='Sensor 2')\n",
    "plt.xlabel('time (ms)')\n",
    "plt.ylabel('distance (mm)')\n",
    "plt.legend()\n",
    "plt.show()"
   ]
  },
  {
   "cell_type": "markdown",
   "id": "8b8bb64c-96e0-419d-97ee-958781bc6706",
   "metadata": {},
   "source": [
    "## Disconnect from Artemis"
   ]
  },
  {
   "cell_type": "code",
   "execution_count": null,
   "id": "eb4cef8d-775d-49ac-a8bd-d2f17ea6147e",
   "metadata": {},
   "outputs": [],
   "source": [
    "# Disconnect\n",
    "ble.disconnect()"
   ]
  }
 ],
 "metadata": {
  "kernelspec": {
   "display_name": "Python 3 (ipykernel)",
   "language": "python",
   "name": "python3"
  },
  "language_info": {
   "codemirror_mode": {
    "name": "ipython",
    "version": 3
   },
   "file_extension": ".py",
   "mimetype": "text/x-python",
   "name": "python",
   "nbconvert_exporter": "python",
   "pygments_lexer": "ipython3",
   "version": "3.9.2"
  }
 },
 "nbformat": 4,
 "nbformat_minor": 5
}

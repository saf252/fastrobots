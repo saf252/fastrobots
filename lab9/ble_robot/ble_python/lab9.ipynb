{
 "cells": [
  {
   "cell_type": "markdown",
   "id": "b7c5f445-6cba-48d2-8aa3-1104f2288046",
   "metadata": {},
   "source": [
    "## Import Modules"
   ]
  },
  {
   "cell_type": "code",
   "execution_count": null,
   "id": "5981af91-de5b-46bc-9db0-8e5802a20080",
   "metadata": {},
   "outputs": [],
   "source": [
    "%load_ext autoreload\n",
    "%autoreload 2\n",
    "\n",
    "from ble import get_ble_controller\n",
    "from base_ble import LOG\n",
    "from cmd_types import CMD\n",
    "from ble_rx_stream import *\n",
    "import time\n",
    "import numpy as np\n",
    "import matplotlib.pyplot as plt\n",
    "\n",
    "import ipywidgets as widgets\n",
    "from ipywidgets import HBox, VBox\n",
    "from IPython.display import display\n",
    "%matplotlib inline\n",
    "\n",
    "LOG.propagate = False"
   ]
  },
  {
   "cell_type": "markdown",
   "id": "9cffdf6a-076c-4e75-a067-aa39659c5221",
   "metadata": {},
   "source": [
    "## Connect to Artemis"
   ]
  },
  {
   "cell_type": "code",
   "execution_count": null,
   "id": "d4b4bd3e-a4af-498f-b93f-2b34dcfd7361",
   "metadata": {
    "tags": []
   },
   "outputs": [],
   "source": [
    "ble = get_ble_controller()\n",
    "ble.connect()"
   ]
  },
  {
   "cell_type": "markdown",
   "id": "87d8a0b5-d3a1-4bb0-9d11-9fa8e6856a51",
   "metadata": {},
   "source": [
    "## Run Map"
   ]
  },
  {
   "cell_type": "code",
   "execution_count": null,
   "id": "0599a0f6-d116-46fc-96a2-b7b528d82d01",
   "metadata": {
    "tags": []
   },
   "outputs": [],
   "source": [
    "calibrate_s = 1.5\n",
    "max_angle = 360.0\n",
    "delta_angle = 20.0\n",
    "tolerance = 1.0\n",
    "min_pid = tolerance\n",
    "max_pid = delta_angle + 2 * tolerance\n",
    "min_motor = 120\n",
    "max_motor = 180\n",
    "k_p = -1.0\n",
    "k_i = -0.5\n",
    "k_d = 0.0\n",
    "ble.send_command(CMD.RUN_MAP, f\"{int(calibrate_s*1000)}|{max_angle}|{delta_angle}|{tolerance}|{min_pid}|{max_pid}|{min_motor}|{max_motor}|{k_p}|{k_i}|{k_d}\")"
   ]
  },
  {
   "cell_type": "code",
   "execution_count": null,
   "id": "656fe22d-f7b2-4f5a-ab2d-fda4316d4e1f",
   "metadata": {
    "tags": []
   },
   "outputs": [],
   "source": [
    "fut = ble_rx_stream(ble, 'RX_STREAM')\n",
    "ble.send_command(CMD.DATA_MAP, \"\")\n",
    "stream_map = list(unpack_stream('LfH*', await fut))"
   ]
  },
  {
   "cell_type": "code",
   "execution_count": null,
   "id": "e246e5ce-e76e-4a76-9f00-8ba9f613f5c6",
   "metadata": {
    "tags": []
   },
   "outputs": [],
   "source": [
    "fut = ble_rx_stream(ble, 'RX_STREAM')\n",
    "ble.send_command(CMD.PID_MAP, \"\")\n",
    "stream_pid = list(unpack_stream('LfffffL*', await fut))"
   ]
  },
  {
   "cell_type": "code",
   "execution_count": null,
   "id": "cd51b45d-8670-4968-9e26-a137c41c8ace",
   "metadata": {
    "tags": []
   },
   "outputs": [],
   "source": [
    "map_data = np.array(stream_map)\n",
    "map_time = map_data[:, 0] / 1000\n",
    "map_angl = map_data[:, 1]\n",
    "map_dist = map_data[:, 2]"
   ]
  },
  {
   "cell_type": "code",
   "execution_count": null,
   "id": "532b0dca-04a8-450e-b294-7a5afc10d317",
   "metadata": {},
   "outputs": [],
   "source": [
    "pid_data = np.array(stream_pid)\n",
    "pid_time = pid_data[:, 0] / 1000\n",
    "pid_sped = pid_data[:, 1]\n",
    "pid_angl = pid_data[:, 2]\n",
    "pid_errr = pid_data[:, 3]\n",
    "pid_pidv = pid_data[:, 4]\n",
    "pid_motr = pid_data[:, 5]"
   ]
  },
  {
   "cell_type": "markdown",
   "id": "c3e0f037-18cd-4e05-9c6f-78511b75925c",
   "metadata": {},
   "source": [
    "## Plot Data"
   ]
  },
  {
   "cell_type": "code",
   "execution_count": null,
   "id": "b8d5b574-b025-4849-b473-ba87553c85a1",
   "metadata": {},
   "outputs": [],
   "source": [
    "data_dict = {}"
   ]
  },
  {
   "cell_type": "code",
   "execution_count": null,
   "id": "2c3fae50-6beb-4f42-a43a-d031992f138d",
   "metadata": {},
   "outputs": [],
   "source": [
    "map_data = np.array(stream_map)\n",
    "map_time = map_data[:, 0] / 1000\n",
    "map_angl = map_data[:, 1]\n",
    "map_dist = map_data[:, 2]\n",
    "data_dict[0, 0] = (map_time, map_angl, map_dist, 1.00)"
   ]
  },
  {
   "cell_type": "code",
   "execution_count": null,
   "id": "9b0c040e-f2b7-46d3-9b94-2eb6f09d3e99",
   "metadata": {
    "tags": []
   },
   "outputs": [],
   "source": [
    "@widgets.interact(scale=(1.0, 1.5, 0.01))\n",
    "def do_polar_plot(scale=1.25):\n",
    "    plt.polar(np.radians(map_angl * scale), map_dist)\n",
    "    plt.savefig('polar_00_scl.jpg')\n",
    "    plt.show()"
   ]
  },
  {
   "cell_type": "code",
   "execution_count": null,
   "id": "621a394f-9409-4775-8d23-e51b222143a2",
   "metadata": {},
   "outputs": [],
   "source": [
    "walls = [\n",
    "    (-1.6764,0.1524), (-1.6764,-1.3716),\n",
    "    (-1.6764,-1.3716), (1.9812,-1.3716),\n",
    "    (1.9812,-1.3716), (1.9812,1.3716),\n",
    "    (1.9812,1.3716), (-0.7620,1.3716),\n",
    "    (-0.7620,1.3716), (-0.7620,0.1524),\n",
    "    (-0.7620,0.1524), (-1.6764,0.1524),\n",
    "    (0.7620,-0.1524), (1.3716,-0.1524),\n",
    "    (1.3716,-0.1524), (1.3716,0.4572),\n",
    "    (1.3716,0.4572), (0.7620,0.4572),\n",
    "    (0.7620,0.4572), (0.7620,-0.1524),\n",
    "    (-0.1524,-1.3716), (-0.1524,-0.7620),\n",
    "    (-0.1524,-0.7620), (0.1524,-0.7620),\n",
    "    (0.1524,-0.7620), (0.1524,-1.3716),\n",
    "]\n",
    "starts = [\n",
    "    (1895, 1331),\n",
    "    (1895, -1411),\n",
    "    (-1572, -1315),\n",
    "    (-1435, 527),\n",
    "    (-608, -36),\n",
    "    (-222, 1331),\n",
    "    (-80, -1355),\n",
    "]\n",
    "ends = [\n",
    "    (1895, -1411),\n",
    "    (-1572, -1315),\n",
    "    (-1435, 527),\n",
    "    (-608, -36),\n",
    "    (-222, 1331),\n",
    "    (1895, 1331),\n",
    "    (-213, -597),\n",
    "]\n",
    "@widgets.interact(x=(-2000, 3000), y=(-2000, 3000))\n",
    "def do_plot_point(x=0, y=0, do_walls=True, do_pointer=False):\n",
    "    if do_walls:\n",
    "        for i in range(len(walls) // 2):\n",
    "            plt.plot([walls[2*i][0] * 1000, walls[2*i+1][0] * 1000], [walls[2*i][1] * 1000, walls[2*i+1][1] * 1000], color='black')\n",
    "    for i in range(len(starts)):\n",
    "        plt.plot([starts[i][0], ends[i][0]], [starts[i][1], ends[i][1]], color='magenta')\n",
    "    if do_pointer:\n",
    "        plt.plot(x, y, color='magenta', marker='x')\n",
    "    for (x,y) in data_dict.keys():\n",
    "        map_time, map_angl, map_dist, scale = data_dict[x,y]\n",
    "        plt.scatter(x * 304.8 + map_dist * np.cos(np.radians(map_angl * scale)), y * 304.8 + map_dist * np.sin(np.radians(map_angl * scale)), label=f'({x}, {y})')\n",
    "    plt.legend()\n",
    "    plt.savefig('room.jpg')\n",
    "    plt.show()"
   ]
  },
  {
   "cell_type": "code",
   "execution_count": null,
   "id": "03ba7a66-9951-4504-8de4-cf2e71d2dd99",
   "metadata": {
    "jupyter": {
     "source_hidden": true
    },
    "tags": []
   },
   "outputs": [],
   "source": [
    "_, axs = plt.subplots(2, 1, sharex=False)\n",
    "axs[0].plot(map_time, map_dist)\n",
    "axs[0].set_ylabel('distance (mm)')\n",
    "axs[0].set_xlabel('time (s)')\n",
    "axs[1].polar(map_angl, map_dist)\n",
    "plt.show()"
   ]
  },
  {
   "cell_type": "code",
   "execution_count": null,
   "id": "d5d4c3b6-e2be-4319-819c-505dbcb55c4b",
   "metadata": {},
   "outputs": [],
   "source": [
    "_, axs = plt.subplots(3, 1, sharex=True)\n",
    "axs[0].plot(pid_time, pid_sped)\n",
    "axs[0].set_ylabel('angular speed\\n(deg/s)')\n",
    "axs[1].plot(pid_time, pid_angl)\n",
    "axs[1].axhline(360, c='red', ls='--')\n",
    "axs[1].set_ylabel('angle\\n(deg)')\n",
    "axs[2].plot(pid_time, pid_motr)\n",
    "axs[2].set_ylabel('motor output')\n",
    "plt.xlabel('time (s)')\n",
    "plt.savefig('pid.jpg')\n",
    "plt.show()"
   ]
  },
  {
   "cell_type": "markdown",
   "id": "9cc8a02a-7e8e-4b80-803e-a958f025f580",
   "metadata": {},
   "source": [
    "## Disconnect from Artemis"
   ]
  },
  {
   "cell_type": "code",
   "execution_count": null,
   "id": "8ebf61c5-43df-4851-af77-c9d3909686d4",
   "metadata": {},
   "outputs": [],
   "source": [
    "ble.disconnect()"
   ]
  }
 ],
 "metadata": {
  "kernelspec": {
   "display_name": "Python 3 (ipykernel)",
   "language": "python",
   "name": "python3"
  },
  "language_info": {
   "codemirror_mode": {
    "name": "ipython",
    "version": 3
   },
   "file_extension": ".py",
   "mimetype": "text/x-python",
   "name": "python",
   "nbconvert_exporter": "python",
   "pygments_lexer": "ipython3",
   "version": "3.9.2"
  }
 },
 "nbformat": 4,
 "nbformat_minor": 5
}

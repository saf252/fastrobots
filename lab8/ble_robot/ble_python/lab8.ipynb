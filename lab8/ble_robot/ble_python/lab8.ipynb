{
 "cells": [
  {
   "cell_type": "markdown",
   "id": "b7c5f445-6cba-48d2-8aa3-1104f2288046",
   "metadata": {},
   "source": [
    "## Import Modules"
   ]
  },
  {
   "cell_type": "code",
   "execution_count": null,
   "id": "5981af91-de5b-46bc-9db0-8e5802a20080",
   "metadata": {},
   "outputs": [],
   "source": [
    "%load_ext autoreload\n",
    "%autoreload 2\n",
    "\n",
    "from ble import get_ble_controller\n",
    "from base_ble import LOG\n",
    "from cmd_types import CMD\n",
    "from ble_rx_stream import *\n",
    "import time\n",
    "import numpy as np\n",
    "import matplotlib.pyplot as plt\n",
    "\n",
    "LOG.propagate = False"
   ]
  },
  {
   "cell_type": "markdown",
   "id": "9cffdf6a-076c-4e75-a067-aa39659c5221",
   "metadata": {},
   "source": [
    "## Connect to Artemis"
   ]
  },
  {
   "cell_type": "code",
   "execution_count": null,
   "id": "d4b4bd3e-a4af-498f-b93f-2b34dcfd7361",
   "metadata": {
    "tags": []
   },
   "outputs": [],
   "source": [
    "ble = get_ble_controller()\n",
    "ble.connect()"
   ]
  },
  {
   "cell_type": "markdown",
   "id": "87d8a0b5-d3a1-4bb0-9d11-9fa8e6856a51",
   "metadata": {},
   "source": [
    "## Run Stunt"
   ]
  },
  {
   "cell_type": "code",
   "execution_count": null,
   "id": "0599a0f6-d116-46fc-96a2-b7b528d82d01",
   "metadata": {},
   "outputs": [],
   "source": [
    "time.sleep(5)\n",
    "timeout_s = 10\n",
    "target_m = 0.5\n",
    "power_l = 255\n",
    "power_r = power_l\n",
    "ble.send_command(CMD.RUN_STUNT, f\"{int(timeout_s*1000)}|{int(target_m*1000)}|{power_l}|{power_r}\")\n",
    "time.sleep(timeout_s)"
   ]
  },
  {
   "cell_type": "code",
   "execution_count": null,
   "id": "656fe22d-f7b2-4f5a-ab2d-fda4316d4e1f",
   "metadata": {},
   "outputs": [],
   "source": [
    "fut = ble_rx_stream(ble, 'RX_STREAM')\n",
    "ble.send_command(CMD.DATA_STUNT, \"\")\n",
    "stream_data = list(unpack_stream('LHh*', await fut))"
   ]
  },
  {
   "cell_type": "code",
   "execution_count": null,
   "id": "cd51b45d-8670-4968-9e26-a137c41c8ace",
   "metadata": {},
   "outputs": [],
   "source": [
    "data = np.array(stream_data)\n",
    "data_time = data[:, 0] / 1000\n",
    "data_dist = data[:, 1]\n",
    "data_motr = data[:, 2]"
   ]
  },
  {
   "cell_type": "code",
   "execution_count": null,
   "id": "011b6bb3-a09e-45ea-a40a-3e892b73cfe8",
   "metadata": {},
   "outputs": [],
   "source": [
    "_, axs = plt.subplots(2, 1, sharex=True)\n",
    "axs[0].plot(data_time, data_dist)\n",
    "axs[0].axhline(target_m*1000, c='red', ls='--')\n",
    "axs[0].set_ylabel('distance (mm)')\n",
    "axs[1].plot(data_time, data_motr)\n",
    "axs[1].set_ylabel('motor value (PWM)')\n",
    "plt.xlabel('time (s)')\n",
    "plt.savefig('run.jpg')"
   ]
  },
  {
   "cell_type": "markdown",
   "id": "9cc8a02a-7e8e-4b80-803e-a958f025f580",
   "metadata": {},
   "source": [
    "## Disconnect from Artemis"
   ]
  },
  {
   "cell_type": "code",
   "execution_count": null,
   "id": "8ebf61c5-43df-4851-af77-c9d3909686d4",
   "metadata": {},
   "outputs": [],
   "source": [
    "ble.disconnect()"
   ]
  }
 ],
 "metadata": {
  "kernelspec": {
   "display_name": "Python 3 (ipykernel)",
   "language": "python",
   "name": "python3"
  },
  "language_info": {
   "codemirror_mode": {
    "name": "ipython",
    "version": 3
   },
   "file_extension": ".py",
   "mimetype": "text/x-python",
   "name": "python",
   "nbconvert_exporter": "python",
   "pygments_lexer": "ipython3",
   "version": "3.9.2"
  }
 },
 "nbformat": 4,
 "nbformat_minor": 5
}

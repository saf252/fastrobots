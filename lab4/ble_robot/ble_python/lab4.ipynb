{
 "cells": [
  {
   "cell_type": "markdown",
   "id": "7273a551-7d85-4c8d-8bf1-59bce87d7995",
   "metadata": {},
   "source": [
    "## Import Modules"
   ]
  },
  {
   "cell_type": "code",
   "execution_count": null,
   "id": "f40c4be7-c621-4d43-9aa4-2afeb1756820",
   "metadata": {},
   "outputs": [],
   "source": [
    "%load_ext autoreload\n",
    "%autoreload 2\n",
    "\n",
    "from ble import get_ble_controller\n",
    "from base_ble import LOG\n",
    "from cmd_types import CMD\n",
    "from ble_rx_stream import *\n",
    "import time\n",
    "import numpy as np\n",
    "import matplotlib.pyplot as plt\n",
    "\n",
    "LOG.propagate = False"
   ]
  },
  {
   "cell_type": "markdown",
   "id": "530993d0-df26-48a6-9c1c-5424a0ae2f33",
   "metadata": {},
   "source": [
    "## Connect to Artemis"
   ]
  },
  {
   "cell_type": "code",
   "execution_count": null,
   "id": "2e215887-1451-4917-83d3-23c1d1e55423",
   "metadata": {},
   "outputs": [],
   "source": [
    "# Get ArtemisBLEController object\n",
    "ble = get_ble_controller()\n",
    "\n",
    "# Connect to the Artemis Device\n",
    "ble.connect()"
   ]
  },
  {
   "cell_type": "markdown",
   "id": "3631aa94-164d-487d-ade5-9ee27af2d109",
   "metadata": {
    "tags": []
   },
   "source": [
    "## Sample Data"
   ]
  },
  {
   "cell_type": "code",
   "execution_count": null,
   "id": "83ac36d7-6187-4011-a9f6-8a1a39714c1b",
   "metadata": {
    "tags": []
   },
   "outputs": [],
   "source": [
    "fut = ble_rx_stream(ble, 'RX_STREAM')\n",
    "ble.send_command(CMD.GET_IMU_TIME, \"5000\")"
   ]
  },
  {
   "cell_type": "code",
   "execution_count": null,
   "id": "5634fbc2-a090-4f18-a7aa-043966ad544a",
   "metadata": {
    "tags": []
   },
   "outputs": [],
   "source": [
    "if fut.done():\n",
    "    s = fut.result()\n",
    "    stream_data = list(unpack_stream('l6f*', s))\n",
    "else:\n",
    "    print('Future not done yet')"
   ]
  },
  {
   "cell_type": "code",
   "execution_count": null,
   "id": "39f2890d-1d87-411e-8412-5e807527269c",
   "metadata": {
    "tags": []
   },
   "outputs": [],
   "source": [
    "data = np.array(stream_data)\n",
    "acc_time = data[:, 0]\n",
    "acc_data = data[:, 1:4]\n",
    "gyr_data = data[:, 4:7]"
   ]
  },
  {
   "cell_type": "code",
   "execution_count": null,
   "id": "21b621ae-fd5b-4140-ba3f-3ee416814683",
   "metadata": {
    "tags": []
   },
   "outputs": [],
   "source": [
    "np.mean(np.diff(acc_time))"
   ]
  },
  {
   "cell_type": "code",
   "execution_count": null,
   "id": "3e91a2eb-f0c1-4f36-8166-011661a727eb",
   "metadata": {
    "tags": []
   },
   "outputs": [],
   "source": [
    "_, axs = plt.subplots(2, 1, sharex=True)\n",
    "axs[0].plot(acc_time, acc_data, label=['x', 'y', 'z'])\n",
    "axs[0].set_ylabel('acceleration (mg)')\n",
    "axs[0].legend()\n",
    "axs[1].plot(acc_time, gyr_data, label=['x', 'y', 'z'])\n",
    "axs[1].set_ylabel('rotation (deg/s)')\n",
    "axs[1].legend()\n",
    "plt.xlabel('time (ms)')\n",
    "plt.show()"
   ]
  },
  {
   "cell_type": "code",
   "execution_count": null,
   "id": "84d80dcf-b103-4694-85a8-fb4667856295",
   "metadata": {
    "tags": []
   },
   "outputs": [],
   "source": [
    "ble.send_command(CMD.BUF_ALL_TIME, \"5000\")\n",
    "time.sleep(5)"
   ]
  },
  {
   "cell_type": "code",
   "execution_count": null,
   "id": "143582c0-79f6-4663-9398-433c5ca5f7b1",
   "metadata": {
    "tags": []
   },
   "outputs": [],
   "source": [
    "fut = ble_rx_stream(ble, 'RX_STREAM')\n",
    "ble.send_command(CMD.GET_IMU_BUF, \"\")"
   ]
  },
  {
   "cell_type": "code",
   "execution_count": null,
   "id": "49d29d23-e824-49de-8b37-05af1a9e1714",
   "metadata": {
    "tags": []
   },
   "outputs": [],
   "source": [
    "if fut.done():\n",
    "    s = fut.result()\n",
    "    imu_stream_data = list(unpack_stream('l6f*', s))\n",
    "else:\n",
    "    print('Future not done yet')"
   ]
  },
  {
   "cell_type": "code",
   "execution_count": null,
   "id": "98679bca-0121-425f-b74e-c3386d5c5ba8",
   "metadata": {
    "tags": []
   },
   "outputs": [],
   "source": [
    "fut = ble_rx_stream(ble, 'RX_STREAM')\n",
    "ble.send_command(CMD.GET_TOF_BUF, \"1\")"
   ]
  },
  {
   "cell_type": "code",
   "execution_count": null,
   "id": "05365eca-a6cd-43c9-bd1e-9ebbb18f6eae",
   "metadata": {
    "tags": []
   },
   "outputs": [],
   "source": [
    "if fut.done():\n",
    "    s = fut.result()\n",
    "    tof1_stream_data = list(unpack_stream('lH*', s))\n",
    "else:\n",
    "    print('Future not done yet')"
   ]
  },
  {
   "cell_type": "code",
   "execution_count": null,
   "id": "c3f6536e-a2cc-43a9-bd5d-aa8b22f9a986",
   "metadata": {
    "tags": []
   },
   "outputs": [],
   "source": [
    "fut = ble_rx_stream(ble, 'RX_STREAM')\n",
    "ble.send_command(CMD.GET_TOF_BUF, \"2\")"
   ]
  },
  {
   "cell_type": "code",
   "execution_count": null,
   "id": "63d0af87-4545-414b-8be2-c4a3b8c7c7b3",
   "metadata": {
    "tags": []
   },
   "outputs": [],
   "source": [
    "if fut.done():\n",
    "    s = fut.result()\n",
    "    tof2_stream_data = list(unpack_stream('lH*', s))\n",
    "else:\n",
    "    print('Future not done yet')"
   ]
  },
  {
   "cell_type": "markdown",
   "id": "545cccfd-8b8d-44fd-aeca-fd7de3ad8427",
   "metadata": {
    "tags": []
   },
   "source": [
    "### Process data"
   ]
  },
  {
   "cell_type": "code",
   "execution_count": null,
   "id": "bc6d215a-d30e-4848-b1b2-2efa3717e72f",
   "metadata": {
    "tags": []
   },
   "outputs": [],
   "source": [
    "data = np.array(imu_stream_data)\n",
    "acc_time = data[:, 0]\n",
    "acc_data = data[:, 1:4]\n",
    "gyr_data = data[:, 4:7]\n",
    "data = np.array(tof1_stream_data)\n",
    "tof1_time = data[:, 0]\n",
    "tof1_data = data[:, 1]\n",
    "data = np.array(tof2_stream_data)\n",
    "tof2_time = data[:, 0]\n",
    "tof2_data = data[:, 1]"
   ]
  },
  {
   "cell_type": "code",
   "execution_count": null,
   "id": "66bd0217-581d-44ff-ae6e-13f3005a13a5",
   "metadata": {},
   "outputs": [],
   "source": [
    "_, axs = plt.subplots(3, 1, sharex=True)\n",
    "axs[0].plot(acc_time, acc_data, label=['x', 'y', 'z'])\n",
    "axs[0].set_ylabel('acceleration (mg)')\n",
    "axs[0].legend()\n",
    "axs[1].plot(acc_time, gyr_data, label=['x', 'y', 'z'])\n",
    "axs[1].set_ylabel('rotation (deg/s)')\n",
    "axs[1].legend()\n",
    "axs[2].plot(tof1_time, tof1_data, label='Sensor 1')\n",
    "axs[2].plot(tof2_time, tof2_data, label='Sensor 2')\n",
    "axs[2].set_ylabel('distance (mm)')\n",
    "axs[2].legend()\n",
    "plt.xlabel('time (ms)')\n",
    "plt.show()"
   ]
  },
  {
   "cell_type": "markdown",
   "id": "5f3fba5c-5fa4-4f06-822a-4a4dd6a86b39",
   "metadata": {},
   "source": [
    "## Stunt Recording"
   ]
  },
  {
   "cell_type": "markdown",
   "id": "1a4ea64b-5640-4578-8f70-c7a0ddbf442c",
   "metadata": {},
   "source": [
    "### Send command and receive response"
   ]
  },
  {
   "cell_type": "code",
   "execution_count": null,
   "id": "999e0a21-873a-4895-98e3-59d24d10644f",
   "metadata": {},
   "outputs": [],
   "source": [
    "fut = ble_rx_stream(ble, 'RX_STREAM', True)\n",
    "ble.send_command(CMD.START_RECORDING_STREAM, \"\")"
   ]
  },
  {
   "cell_type": "code",
   "execution_count": null,
   "id": "64e8e028-40b5-4c02-8663-aa421e4246e7",
   "metadata": {
    "tags": []
   },
   "outputs": [],
   "source": [
    "ble.send_command(CMD.STOP_RECORDING_STREAM, \"\")"
   ]
  },
  {
   "cell_type": "code",
   "execution_count": null,
   "id": "36fefdf0-93d4-44b8-92c6-ae2de478ede3",
   "metadata": {},
   "outputs": [],
   "source": [
    "if fut.done():\n",
    "    s = fut.result()\n",
    "    stunt_stream_data = list(unpack_stream('l6flHlH*', s))\n",
    "else:\n",
    "    print('Future not done yet')"
   ]
  },
  {
   "cell_type": "markdown",
   "id": "f9b30dd2-2408-4061-b0d0-0034c788f9ee",
   "metadata": {},
   "source": [
    "### Process and plot data"
   ]
  },
  {
   "cell_type": "code",
   "execution_count": null,
   "id": "9e10a343-84a7-4cce-92e6-6df59f719bb0",
   "metadata": {},
   "outputs": [],
   "source": [
    "data = np.array(stunt_stream_data)\n",
    "acc_time = data[:, 0]\n",
    "acc_data = data[:, 1:4]\n",
    "gyr_data = data[:, 4:7]\n",
    "tof1_time = data[:, 7]\n",
    "tof1_data = data[:, 8]\n",
    "tof2_time = data[:, 9]\n",
    "tof2_data = data[:, 10]"
   ]
  },
  {
   "cell_type": "code",
   "execution_count": null,
   "id": "6c3e24c4-3765-456f-9cce-5729dccf9bed",
   "metadata": {},
   "outputs": [],
   "source": [
    "_, axs = plt.subplots(3, 1, sharex=True)\n",
    "axs[0].plot(acc_time, acc_data, label=['x', 'y', 'z'])\n",
    "axs[0].set_ylabel('acceleration (mg)')\n",
    "axs[0].legend()\n",
    "axs[1].plot(acc_time, gyr_data, label=['x', 'y', 'z'])\n",
    "axs[1].set_ylabel('rotation (deg/s)')\n",
    "axs[1].legend()\n",
    "axs[2].plot(tof1_time, tof1_data, label='Sensor 1')\n",
    "axs[2].plot(tof2_time, tof2_data, label='Sensor 2')\n",
    "axs[2].set_ylabel('distance (mm)')\n",
    "axs[2].legend()\n",
    "plt.xlabel('time (ms)')\n",
    "plt.show()"
   ]
  },
  {
   "cell_type": "markdown",
   "id": "8b8bb64c-96e0-419d-97ee-958781bc6706",
   "metadata": {},
   "source": [
    "## Disconnect from Artemis"
   ]
  },
  {
   "cell_type": "code",
   "execution_count": null,
   "id": "eb4cef8d-775d-49ac-a8bd-d2f17ea6147e",
   "metadata": {},
   "outputs": [],
   "source": [
    "# Disconnect\n",
    "ble.disconnect()"
   ]
  }
 ],
 "metadata": {
  "kernelspec": {
   "display_name": "Python 3 (ipykernel)",
   "language": "python",
   "name": "python3"
  },
  "language_info": {
   "codemirror_mode": {
    "name": "ipython",
    "version": 3
   },
   "file_extension": ".py",
   "mimetype": "text/x-python",
   "name": "python",
   "nbconvert_exporter": "python",
   "pygments_lexer": "ipython3",
   "version": "3.9.2"
  }
 },
 "nbformat": 4,
 "nbformat_minor": 5
}

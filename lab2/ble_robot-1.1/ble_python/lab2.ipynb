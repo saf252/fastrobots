{
 "cells": [
  {
   "cell_type": "code",
   "execution_count": null,
   "id": "efd6e6ef-9a36-46fb-9d85-1c7ce91db7f7",
   "metadata": {},
   "outputs": [],
   "source": [
    "%load_ext autoreload\n",
    "%autoreload 2\n",
    "\n",
    "from ble import get_ble_controller\n",
    "from base_ble import LOG\n",
    "from cmd_types import CMD\n",
    "import time\n",
    "import numpy as np\n",
    "\n",
    "LOG.propagate = False"
   ]
  },
  {
   "cell_type": "code",
   "execution_count": null,
   "id": "e825de60-f9ce-43ab-8f51-afa953af9eff",
   "metadata": {},
   "outputs": [],
   "source": [
    "# Get ArtemisBLEController object\n",
    "ble = get_ble_controller()\n",
    "\n",
    "# Connect to the Artemis Device\n",
    "ble.connect()"
   ]
  },
  {
   "cell_type": "markdown",
   "id": "5a396cf3-9bff-46b6-8bf3-cf2d09a0f7fd",
   "metadata": {},
   "source": [
    "# Lab Tasks"
   ]
  },
  {
   "cell_type": "markdown",
   "id": "a4478052-a526-4f7c-9724-cbfc473209e1",
   "metadata": {},
   "source": [
    "## 1. Echo"
   ]
  },
  {
   "cell_type": "code",
   "execution_count": null,
   "id": "c84035e0-ecfa-4e78-84c0-50944aaef754",
   "metadata": {},
   "outputs": [],
   "source": [
    "ble.send_command(CMD.ECHO, \"HiHello\")\n",
    "s = ble.receive_string(ble.uuid['RX_STRING'])\n",
    "print(s)"
   ]
  },
  {
   "cell_type": "markdown",
   "id": "0f93c254-d95e-4384-ad4d-4a88c23a6496",
   "metadata": {},
   "source": [
    "## 2. Get Time Millis"
   ]
  },
  {
   "cell_type": "code",
   "execution_count": null,
   "id": "bbed24b9-c32f-4ca7-a2d9-64d7e14a12da",
   "metadata": {},
   "outputs": [],
   "source": [
    "ble.send_command(CMD.GET_TIME_MILLIS, \"\")\n",
    "s = ble.receive_string(ble.uuid['RX_STRING'])\n",
    "print(s)"
   ]
  },
  {
   "cell_type": "markdown",
   "id": "89515c9b-6c4c-4c3c-bcf8-85f9cfa4d7da",
   "metadata": {},
   "source": [
    "## 3. Notifications"
   ]
  },
  {
   "cell_type": "code",
   "execution_count": null,
   "id": "cc77e1c0-365c-4393-bc84-c6499759b664",
   "metadata": {},
   "outputs": [],
   "source": [
    "def notification_handler(sender, data):\n",
    "    time = int(data[2:])\n",
    "    LOG.info(f'Time: {time}')"
   ]
  },
  {
   "cell_type": "markdown",
   "id": "f0c8f9e7-b939-4c98-872e-7314c5f888fa",
   "metadata": {},
   "source": [
    "Sleep to let the response come in"
   ]
  },
  {
   "cell_type": "code",
   "execution_count": null,
   "id": "3888c2f7-a35e-45a3-999b-434496f2923c",
   "metadata": {},
   "outputs": [],
   "source": [
    "ble.start_notify(ble.uuid['RX_STRING'], notification_handler)\n",
    "ble.send_command(CMD.GET_TIME_MILLIS, \"\")\n",
    "time.sleep(1)\n",
    "ble.stop_notify(ble.uuid['RX_STRING'])"
   ]
  },
  {
   "cell_type": "markdown",
   "id": "e0c6b4e5-22cb-4cbb-9383-3b9bf775c519",
   "metadata": {},
   "source": [
    "## 4. Five Temps"
   ]
  },
  {
   "cell_type": "code",
   "execution_count": null,
   "id": "29816aa0-599b-4ca8-b30d-6353f90d03bb",
   "metadata": {},
   "outputs": [],
   "source": [
    "data_buffer = ''\n",
    "def buffered_notification_handler(sender, data):\n",
    "    global data_buffer\n",
    "    data = ble.bytearray_to_string(data)\n",
    "    data_buffer += data\n",
    "    if data[-1] == 'E':\n",
    "        data = data_buffer[1:-2].split('|')\n",
    "        data_buffer = ''\n",
    "        for time, temp in zip(data[0::2], data[1::2]):\n",
    "            time = int(time[2:])\n",
    "            temp = float(temp[2:])\n",
    "            LOG.info(f'Time: {time}, Temp: {temp}')"
   ]
  },
  {
   "cell_type": "code",
   "execution_count": null,
   "id": "77e96ace-bec8-4e08-bb53-c48ad61632e0",
   "metadata": {},
   "outputs": [],
   "source": [
    "ble.start_notify(ble.uuid['RX_STRING'], buffered_notification_handler)\n",
    "ble.send_command(CMD.GET_TEMP_5s, \"\")\n",
    "time.sleep(6)\n",
    "ble.stop_notify(ble.uuid['RX_STRING'])"
   ]
  },
  {
   "cell_type": "markdown",
   "id": "f3bf4c64-14f9-466c-8016-d61ff41c0861",
   "metadata": {},
   "source": [
    "## 5. Rapid Temps"
   ]
  },
  {
   "cell_type": "code",
   "execution_count": null,
   "id": "ebe2cd7e-d651-4df7-a665-0989896975b1",
   "metadata": {},
   "outputs": [],
   "source": [
    "ble.start_notify(ble.uuid['RX_STRING'], buffered_notification_handler)\n",
    "ble.send_command(CMD.GET_TEMP_5s_RAPID, \"\")\n",
    "time.sleep(6)\n",
    "ble.stop_notify(ble.uuid['RX_STRING'])"
   ]
  }
 ],
 "metadata": {
  "kernelspec": {
   "display_name": "Python 3 (ipykernel)",
   "language": "python",
   "name": "python3"
  },
  "language_info": {
   "codemirror_mode": {
    "name": "ipython",
    "version": 3
   },
   "file_extension": ".py",
   "mimetype": "text/x-python",
   "name": "python",
   "nbconvert_exporter": "python",
   "pygments_lexer": "ipython3",
   "version": "3.9.2"
  }
 },
 "nbformat": 4,
 "nbformat_minor": 5
}

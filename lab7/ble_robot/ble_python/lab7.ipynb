{
 "cells": [
  {
   "cell_type": "markdown",
   "id": "b7c5f445-6cba-48d2-8aa3-1104f2288046",
   "metadata": {},
   "source": [
    "## Import Modules"
   ]
  },
  {
   "cell_type": "code",
   "execution_count": null,
   "id": "5981af91-de5b-46bc-9db0-8e5802a20080",
   "metadata": {},
   "outputs": [],
   "source": [
    "%load_ext autoreload\n",
    "%autoreload 2\n",
    "\n",
    "from ble import get_ble_controller\n",
    "from base_ble import LOG\n",
    "from cmd_types import CMD\n",
    "from ble_rx_stream import *\n",
    "import time\n",
    "import numpy as np\n",
    "import matplotlib.pyplot as plt\n",
    "\n",
    "LOG.propagate = False"
   ]
  },
  {
   "cell_type": "markdown",
   "id": "9cffdf6a-076c-4e75-a067-aa39659c5221",
   "metadata": {},
   "source": [
    "## Connect to Artemis"
   ]
  },
  {
   "cell_type": "code",
   "execution_count": null,
   "id": "d4b4bd3e-a4af-498f-b93f-2b34dcfd7361",
   "metadata": {
    "tags": []
   },
   "outputs": [],
   "source": [
    "ble = get_ble_controller()\n",
    "ble.connect()"
   ]
  },
  {
   "cell_type": "markdown",
   "id": "6e26dcd9-cf19-474e-a827-7ead6ef4a7bb",
   "metadata": {},
   "source": [
    "## Testing"
   ]
  },
  {
   "cell_type": "code",
   "execution_count": null,
   "id": "01ca2b46-1ac1-4ff2-a775-17e18bf9ae09",
   "metadata": {},
   "outputs": [],
   "source": [
    "fut = ble_rx_stream(ble, 'RX_STREAM')\n",
    "ble.send_command(CMD.STREAM_TOF1, \"1000\")\n",
    "tof1_data = np.array(list(unpack_stream('LH*', await fut)))\n",
    "print(tof1_data)\n",
    "plt.plot(tof1_data[:, 0], tof1_data[:, 1])"
   ]
  },
  {
   "cell_type": "code",
   "execution_count": null,
   "id": "f9b107c3-c305-4c7a-a9dd-609474b78c1d",
   "metadata": {},
   "outputs": [],
   "source": [
    "ble.send_command(CMD.DRIVE, \"1000|100|0|100|0\")"
   ]
  },
  {
   "cell_type": "markdown",
   "id": "87d8a0b5-d3a1-4bb0-9d11-9fa8e6856a51",
   "metadata": {},
   "source": [
    "## Run PID"
   ]
  },
  {
   "cell_type": "code",
   "execution_count": null,
   "id": "0599a0f6-d116-46fc-96a2-b7b528d82d01",
   "metadata": {},
   "outputs": [],
   "source": [
    "time.sleep(5)\n",
    "timeout_s = 8\n",
    "target_ft = 1\n",
    "deadband = 40\n",
    "calibration = 1\n",
    "K_p = -0.05\n",
    "K_i = 0\n",
    "K_d = 0\n",
    "ble.send_command(CMD.RUN_PID, f\"{int(timeout_s*1000)}|{int(target_ft*304)}|{deadband}|{calibration}|{K_p}|{K_i}|{K_d}\")\n",
    "time.sleep(timeout_s)"
   ]
  },
  {
   "cell_type": "code",
   "execution_count": null,
   "id": "656fe22d-f7b2-4f5a-ab2d-fda4316d4e1f",
   "metadata": {},
   "outputs": [],
   "source": [
    "fut = ble_rx_stream(ble, 'RX_STREAM')\n",
    "ble.send_command(CMD.DATA_PID, \"\")\n",
    "stream_data = list(unpack_stream('LHfBB*', await fut))"
   ]
  },
  {
   "cell_type": "code",
   "execution_count": null,
   "id": "65061920-2c1a-4df9-a8c3-5f1fdb32dc44",
   "metadata": {},
   "outputs": [],
   "source": [
    "fut = ble_rx_stream(ble, 'RX_STREAM')\n",
    "ble.send_command(CMD.EXTRA_DATA_PID, \"\")\n",
    "extra_stream_data = list(unpack_stream('Lfff*', await fut))"
   ]
  },
  {
   "cell_type": "code",
   "execution_count": null,
   "id": "cd51b45d-8670-4968-9e26-a137c41c8ace",
   "metadata": {},
   "outputs": [],
   "source": [
    "data = np.array(stream_data)\n",
    "data_time = data[:, 0]\n",
    "data_dist = data[:, 1]\n",
    "data_pid = data[:, 2]\n",
    "data_mot = data[:, 3:5]\n",
    "extra_data = np.array(extra_stream_data)\n",
    "extra_time = extra_data[:, 0]\n",
    "extra_err = extra_data[:, 1]\n",
    "extra_int = extra_data[:, 2]\n",
    "extra_dif = extra_data[:, 3]"
   ]
  },
  {
   "cell_type": "code",
   "execution_count": null,
   "id": "011b6bb3-a09e-45ea-a40a-3e892b73cfe8",
   "metadata": {},
   "outputs": [],
   "source": [
    "_, axs = plt.subplots(2, 1, sharex=True)\n",
    "axs[0].plot(data_time, data_dist)\n",
    "axs[0].axhline(target_ft*304, c='red', ls='--')\n",
    "axs[0].set_ylabel('distance (mm)')\n",
    "axs[1].plot(data_time, data_mot)\n",
    "axs[1].set_ylabel('PWM output')\n",
    "plt.xlabel('time (ms)')\n",
    "plt.show()"
   ]
  },
  {
   "cell_type": "code",
   "execution_count": null,
   "id": "90955687-8a73-435c-bfaa-bb7c855a6f7c",
   "metadata": {},
   "outputs": [],
   "source": [
    "_, axs = plt.subplots(6, 1, sharex=True)\n",
    "axs[0].plot(data_time, data_dist)\n",
    "axs[0].set_ylabel('distance (mm)')\n",
    "axs[1].plot(data_time, data_pid)\n",
    "axs[1].set_ylabel('raw PID output')\n",
    "axs[2].plot(data_time, data_mot, label=['motor 1', 'motor 2'])\n",
    "axs[2].set_ylabel('motor PWM output')\n",
    "axs[2].legend()\n",
    "axs[3].plot(extra_time, extra_err)\n",
    "axs[3].set_ylabel('PID: error')\n",
    "axs[4].plot(extra_time, extra_int)\n",
    "axs[4].set_ylabel('PID: integrator')\n",
    "axs[5].plot(extra_time, extra_dif)\n",
    "axs[5].set_ylabel('PID: differentiator')\n",
    "plt.xlabel('time (ms)')\n",
    "plt.show()"
   ]
  },
  {
   "cell_type": "markdown",
   "id": "9cc8a02a-7e8e-4b80-803e-a958f025f580",
   "metadata": {},
   "source": [
    "## Disconnect from Artemis"
   ]
  },
  {
   "cell_type": "code",
   "execution_count": null,
   "id": "8ebf61c5-43df-4851-af77-c9d3909686d4",
   "metadata": {},
   "outputs": [],
   "source": [
    "ble.disconnect()"
   ]
  },
  {
   "cell_type": "markdown",
   "id": "d5e45313-46e4-4f9b-bc86-b92011b62a29",
   "metadata": {},
   "source": [
    "## Kalman Filter"
   ]
  },
  {
   "cell_type": "code",
   "execution_count": null,
   "id": "e403142b-7c83-4bbc-a396-8e6f2685a2e1",
   "metadata": {},
   "outputs": [],
   "source": [
    "# drag and mass\n",
    "d = 0.0005\n",
    "m = 5.64e-04"
   ]
  },
  {
   "cell_type": "code",
   "execution_count": null,
   "id": "2efd59d4-27c3-4719-b625-e586c1fff87a",
   "metadata": {},
   "outputs": [],
   "source": [
    "# Initial A, B, and C matrices\n",
    "A = np.array([[0,1],[0,-d/m]])\n",
    "B = np.array([[0],[1/m]])\n",
    "C = np.array([[-1,0]])"
   ]
  },
  {
   "cell_type": "code",
   "execution_count": null,
   "id": "547115e2-c8b4-461c-8370-b010cf822d00",
   "metadata": {},
   "outputs": [],
   "source": [
    "# Process and sensor noise\n",
    "Sigma_1 = 10\n",
    "Sigma_2 = 10\n",
    "Sigma_3 = 20\n",
    "Sigma_u = np.array([[sig_1**2,0],[0,sig_2**2]])\n",
    "Sigma_z = np.array([[sig_3**2]])"
   ]
  },
  {
   "cell_type": "code",
   "execution_count": null,
   "id": "1b85e100-5198-4e0e-841a-d686009ff991",
   "metadata": {},
   "outputs": [],
   "source": [
    "# Discretize matrices\n",
    "dt = np.mean(np.diff(data_time))\n",
    "A = np.eye(2) + dt * A\n",
    "B = dt * B"
   ]
  },
  {
   "cell_type": "code",
   "execution_count": null,
   "id": "dcb67135-6dbd-4f33-a5c2-92f5cd0c0978",
   "metadata": {},
   "outputs": [],
   "source": [
    "# KF estimation\n",
    "def kf(mu, sigma, u, y):\n",
    "    mu_p = A.dot(mu) + B.dot(u)\n",
    "    sigma_p = A.dot(sigma.dot(A.transpose())) + Sigma_u\n",
    "    sigma_m = C.dot(sigma_p.dot(C.transpose())) + Sigma_z\n",
    "    kkf_gain = sigma_p.dot(C.transpose().dot(np.linalg.inv(sigma_m)))\n",
    "    y_m = y - C.dot(x_p)\n",
    "    mu = mu_p + kkf_gain.dot(y_m)\n",
    "    sigma = (np.eye(2) - kkf_gain.dot(C)).dot(sigma_p)\n",
    "    return mu, sigma"
   ]
  },
  {
   "cell_type": "code",
   "execution_count": null,
   "id": "493805c6-8440-426b-9014-c01a1f1b8a12",
   "metadata": {},
   "outputs": [],
   "source": [
    "# Initial state\n",
    "sigma_1 = 5\n",
    "sigma_2 = 5\n",
    "sigma = np.array([[sigma_1**2,0],[0,sigma_2**2]])\n",
    "mu = np.array([[-data_dist[0]],[0]])"
   ]
  },
  {
   "cell_type": "code",
   "execution_count": null,
   "id": "f1e0799a-0829-488e-abd7-6e8e79fcda58",
   "metadata": {},
   "outputs": [],
   "source": [
    "# Estimate with KF\n",
    "states = []\n",
    "for u, d in zip(data_mot[:, 0], data_dist):\n",
    "    mu, sig = kf(mu, sigma, [[u / 160]], [[d]])\n",
    "    states.append(mu[:, 0])"
   ]
  },
  {
   "cell_type": "code",
   "execution_count": null,
   "id": "bd3d1934-0231-4ea6-8ac0-3e304e5d35fa",
   "metadata": {},
   "outputs": [],
   "source": [
    "# Plot data\n",
    "kf_data = np.array(states)\n",
    "data_time_sec = data_time / 1000\n",
    "plt.plot(data_time_sec, data_dist)\n",
    "plt.plot(data_time_sec, -kf_data[:, 0])\n",
    "plt.ylabel('distance (mm)')\n",
    "plt.xlabel('time (s)')\n",
    "plt.savefig('kf.png')"
   ]
  }
 ],
 "metadata": {
  "kernelspec": {
   "display_name": "Python 3 (ipykernel)",
   "language": "python",
   "name": "python3"
  },
  "language_info": {
   "codemirror_mode": {
    "name": "ipython",
    "version": 3
   },
   "file_extension": ".py",
   "mimetype": "text/x-python",
   "name": "python",
   "nbconvert_exporter": "python",
   "pygments_lexer": "ipython3",
   "version": "3.9.2"
  }
 },
 "nbformat": 4,
 "nbformat_minor": 5
}

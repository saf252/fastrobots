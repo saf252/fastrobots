{
 "cells": [
  {
   "cell_type": "markdown",
   "id": "b7c5f445-6cba-48d2-8aa3-1104f2288046",
   "metadata": {},
   "source": [
    "## Import Modules"
   ]
  },
  {
   "cell_type": "code",
   "execution_count": null,
   "id": "5981af91-de5b-46bc-9db0-8e5802a20080",
   "metadata": {},
   "outputs": [],
   "source": [
    "%load_ext autoreload\n",
    "%autoreload 2\n",
    "\n",
    "from ble import get_ble_controller\n",
    "from base_ble import LOG\n",
    "from cmd_types import CMD\n",
    "import time\n",
    "\n",
    "LOG.propagate = False"
   ]
  },
  {
   "cell_type": "markdown",
   "id": "9cffdf6a-076c-4e75-a067-aa39659c5221",
   "metadata": {},
   "source": [
    "## Connect to Artemis"
   ]
  },
  {
   "cell_type": "code",
   "execution_count": null,
   "id": "d4b4bd3e-a4af-498f-b93f-2b34dcfd7361",
   "metadata": {
    "tags": []
   },
   "outputs": [],
   "source": [
    "ble = get_ble_controller()\n",
    "ble.connect()"
   ]
  },
  {
   "cell_type": "markdown",
   "id": "4be6ed97-1aba-4a0c-a8cb-31d9b483a018",
   "metadata": {
    "tags": []
   },
   "source": [
    "## Test"
   ]
  },
  {
   "cell_type": "code",
   "execution_count": null,
   "id": "f9a0146a-c9e2-441c-9669-52feea888471",
   "metadata": {
    "tags": []
   },
   "outputs": [],
   "source": [
    "def send_motor(ble, fwd_1=0, bck_1=0, fwd_2=0, bck_2=0):\n",
    "    return ble.write(ble.uuid['TX_PWM_LONG'], bytearray([fwd_1, bck_1, fwd_2, bck_2]))"
   ]
  },
  {
   "cell_type": "code",
   "execution_count": null,
   "id": "1307cb04-42c2-4940-aa24-ddb17685d078",
   "metadata": {
    "tags": []
   },
   "outputs": [],
   "source": [
    "send_motor(ble, 0, 0)"
   ]
  },
  {
   "cell_type": "code",
   "execution_count": null,
   "id": "e9396fb6-049a-468c-833e-2d08d00b9300",
   "metadata": {
    "tags": []
   },
   "outputs": [],
   "source": [
    "send_motor(ble, 50, 0)"
   ]
  },
  {
   "cell_type": "code",
   "execution_count": null,
   "id": "a2ca8238-b35e-4f7a-a68f-9a995ec46b6a",
   "metadata": {
    "tags": []
   },
   "outputs": [],
   "source": [
    "send_motor(ble, 100, 0)"
   ]
  },
  {
   "cell_type": "code",
   "execution_count": null,
   "id": "038c5427-84bb-4e4f-9686-043c212a93a6",
   "metadata": {
    "tags": []
   },
   "outputs": [],
   "source": [
    "send_motor(ble, 150, 0)"
   ]
  },
  {
   "cell_type": "code",
   "execution_count": null,
   "id": "7fe2c11d-3925-4e87-a503-5c0095d43ffe",
   "metadata": {
    "tags": []
   },
   "outputs": [],
   "source": [
    "send_motor(ble, 200, 0)"
   ]
  },
  {
   "cell_type": "code",
   "execution_count": null,
   "id": "316c9dbf-0694-49ea-90b6-bc47e0b43eaf",
   "metadata": {
    "tags": []
   },
   "outputs": [],
   "source": [
    "send_motor(ble, 0, 50)"
   ]
  },
  {
   "cell_type": "code",
   "execution_count": null,
   "id": "8afee65b-fdd2-4b7f-98ef-7c0c2df5a7b1",
   "metadata": {
    "tags": []
   },
   "outputs": [],
   "source": [
    "send_motor(ble, 0, 100)"
   ]
  },
  {
   "cell_type": "code",
   "execution_count": null,
   "id": "2ff1cb4c-2a4e-4932-bbdf-44a238a3e641",
   "metadata": {
    "tags": []
   },
   "outputs": [],
   "source": [
    "send_motor(ble, 0, 150)"
   ]
  },
  {
   "cell_type": "code",
   "execution_count": null,
   "id": "7d1f4ae6-0efc-4f27-8cb4-4de7d231bfd3",
   "metadata": {
    "tags": []
   },
   "outputs": [],
   "source": [
    "send_motor(ble, 0, 200)"
   ]
  },
  {
   "cell_type": "code",
   "execution_count": null,
   "id": "ae97dc37-0248-40d7-a506-c442501b36a8",
   "metadata": {
    "tags": []
   },
   "outputs": [],
   "source": [
    "send_motor(ble, 100, 10)"
   ]
  },
  {
   "cell_type": "code",
   "execution_count": null,
   "id": "f5739318-5133-45ae-8f2c-0ac45f46182d",
   "metadata": {
    "tags": []
   },
   "outputs": [],
   "source": [
    "send_motor(ble, 0, 0)"
   ]
  },
  {
   "cell_type": "code",
   "execution_count": null,
   "id": "c28634ab-03a9-44f5-b652-3a8421517192",
   "metadata": {
    "tags": []
   },
   "outputs": [],
   "source": [
    "send_motor(ble, 10, 100)"
   ]
  },
  {
   "cell_type": "code",
   "execution_count": null,
   "id": "9860cdea-e050-484e-bedf-7d1d9a127a12",
   "metadata": {
    "tags": []
   },
   "outputs": [],
   "source": [
    "send_motor(ble, fwd_2=100, bck_2=10)"
   ]
  },
  {
   "cell_type": "code",
   "execution_count": null,
   "id": "4dd1436f-36b5-4b07-bd4a-9ad95405804a",
   "metadata": {
    "tags": []
   },
   "outputs": [],
   "source": [
    "send_motor(ble, 100, 10, 100, 10)"
   ]
  },
  {
   "cell_type": "markdown",
   "id": "d9a93dbd-d36d-4786-9eee-32117ea07bbe",
   "metadata": {},
   "source": [
    "## Drive"
   ]
  },
  {
   "cell_type": "markdown",
   "id": "a399fe02-49ab-4369-b9b7-830bc26d8d47",
   "metadata": {},
   "source": [
    "### Abort"
   ]
  },
  {
   "cell_type": "code",
   "execution_count": null,
   "id": "faced4bf-0ed3-4e96-8492-b2ab30cf1afd",
   "metadata": {},
   "outputs": [],
   "source": [
    "ble.write(ble.uuid['TX_PWM_LONG'], 0.to_bytes(4, 'little'))"
   ]
  },
  {
   "cell_type": "markdown",
   "id": "f898d9e2-ff5d-42c3-8a93-560e38a1be9d",
   "metadata": {},
   "source": [
    "### Drive"
   ]
  },
  {
   "cell_type": "code",
   "execution_count": null,
   "id": "fcc327ee-db65-46e8-87f1-366f2299e995",
   "metadata": {},
   "outputs": [],
   "source": [
    "# forward\n",
    "mag_l = 60\n",
    "mag_r = mag_l\n",
    "ble.send_command(CMD.DRIVE, f\"1000|{mag_l}|1|{mag_r}|1\")"
   ]
  },
  {
   "cell_type": "code",
   "execution_count": null,
   "id": "e5c49925-02f6-4036-a28c-a2773cd705df",
   "metadata": {},
   "outputs": [],
   "source": [
    "# backward\n",
    "mag_l = 100\n",
    "mag_r = mag_l\n",
    "ble.send_command(CMD.DRIVE, f\"500|1|{mag_l}|1|{mag_r}\")"
   ]
  },
  {
   "cell_type": "code",
   "execution_count": null,
   "id": "728b0c02-1f93-40c2-918f-15ebbc7fa595",
   "metadata": {},
   "outputs": [],
   "source": [
    "# left\n",
    "mag_l = 150\n",
    "mag_r = mag_l\n",
    "ble.send_command(CMD.DRIVE, f\"500|1|{mag_l}|{mag_r}|1\")"
   ]
  },
  {
   "cell_type": "code",
   "execution_count": null,
   "id": "fae45ddb-dbb1-44ae-8710-4f778522ad86",
   "metadata": {},
   "outputs": [],
   "source": [
    "# right\n",
    "mag_l = 150\n",
    "mag_r = mag_l\n",
    "ble.send_command(CMD.DRIVE, f\"1000|{mag_l}|1|1|{mag_r}\")"
   ]
  },
  {
   "cell_type": "code",
   "execution_count": null,
   "id": "b281d8cf-f1be-4104-a765-0554c3f87ce2",
   "metadata": {},
   "outputs": [],
   "source": [
    "# 2m\n",
    "duration = 900\n",
    "mag_l = 138\n",
    "mag_r = 100\n",
    "time.sleep(5)\n",
    "ble.send_command(CMD.DRIVE, f\"{duration}|{mag_l}|1|{mag_r}|1\")"
   ]
  },
  {
   "cell_type": "markdown",
   "id": "70e5ec5c-6b26-4d40-9d8a-f2d8a81015a3",
   "metadata": {},
   "source": [
    "## Open Loop Control"
   ]
  },
  {
   "cell_type": "code",
   "execution_count": null,
   "id": "fda87ded-bf22-4dc3-93c0-9a0b66512390",
   "metadata": {},
   "outputs": [],
   "source": [
    "ble.send_command(CMD.DRIVE, \"600|138|1|1|100\")"
   ]
  },
  {
   "cell_type": "code",
   "execution_count": null,
   "id": "7379b6b2-89b1-4a7a-88a6-6ac85ab70c74",
   "metadata": {},
   "outputs": [],
   "source": [
    "ble.send_command(CMD.DRIVE, \"250|1|238|1|200\")"
   ]
  },
  {
   "cell_type": "code",
   "execution_count": null,
   "id": "ee869ae8-2a62-4bbd-88af-bc79f490989b",
   "metadata": {},
   "outputs": [],
   "source": [
    "ble.send_command(CMD.DRIVE, \"400|138|1|1|100\")"
   ]
  },
  {
   "cell_type": "code",
   "execution_count": null,
   "id": "ad7f7bd7-efc9-43c3-950a-6968d71334ec",
   "metadata": {},
   "outputs": [],
   "source": [
    "ble.send_command(CMD.DRIVE, \"250|238|1|200|1\")"
   ]
  },
  {
   "cell_type": "code",
   "execution_count": null,
   "id": "a45f8a49-d61a-410e-a111-1d2743d85a4d",
   "metadata": {},
   "outputs": [],
   "source": [
    "ble.send_command(CMD.DRIVE, \"600|138|1|1|100\")"
   ]
  },
  {
   "cell_type": "code",
   "execution_count": null,
   "id": "fd9e4938-62f7-4dba-8877-693b6f8a6c64",
   "metadata": {},
   "outputs": [],
   "source": [
    "time.sleep(5)\n",
    "ble.send_command(CMD.OPEN_LOOP, \"\")"
   ]
  },
  {
   "cell_type": "markdown",
   "id": "9cc8a02a-7e8e-4b80-803e-a958f025f580",
   "metadata": {},
   "source": [
    "## Disconnect from Artemis"
   ]
  },
  {
   "cell_type": "code",
   "execution_count": null,
   "id": "8ebf61c5-43df-4851-af77-c9d3909686d4",
   "metadata": {},
   "outputs": [],
   "source": [
    "ble.disconnect()"
   ]
  }
 ],
 "metadata": {
  "kernelspec": {
   "display_name": "Python 3 (ipykernel)",
   "language": "python",
   "name": "python3"
  },
  "language_info": {
   "codemirror_mode": {
    "name": "ipython",
    "version": 3
   },
   "file_extension": ".py",
   "mimetype": "text/x-python",
   "name": "python",
   "nbconvert_exporter": "python",
   "pygments_lexer": "ipython3",
   "version": "3.9.2"
  }
 },
 "nbformat": 4,
 "nbformat_minor": 5
}

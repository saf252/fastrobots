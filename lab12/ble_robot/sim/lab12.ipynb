{
 "cells": [
  {
   "cell_type": "markdown",
   "metadata": {
    "tags": []
   },
   "source": [
    "# Lab 12: Path Planning and Execution\n",
    "\n",
    "<hr>"
   ]
  },
  {
   "cell_type": "code",
   "execution_count": null,
   "metadata": {},
   "outputs": [],
   "source": [
    "%load_ext autoreload\n",
    "%autoreload 2\n",
    "\n",
    "import traceback\n",
    "from notebook_utils import *\n",
    "from Traj import *\n",
    "import asyncio\n",
    "import pathlib\n",
    "import os\n",
    "from utils import load_config_params\n",
    "from localization_extras import Localization\n",
    "\n",
    "# The imports below will only work if you copied the required ble-related python files \n",
    "# into the notebooks directory\n",
    "from ble import get_ble_controller\n",
    "from base_ble import LOG\n",
    "from cmd_types import CMD\n",
    "import numpy as np\n",
    "from ble_rx_stream import *\n",
    "\n",
    "# Setup Logger\n",
    "LOG = get_logger('final_notebook.log')\n",
    "LOG.propagate = False\n",
    "\n",
    "# Init GUI and Commander\n",
    "gui = GET_GUI()\n",
    "cmdr = gui.launcher.commander"
   ]
  },
  {
   "cell_type": "code",
   "execution_count": null,
   "metadata": {},
   "outputs": [],
   "source": [
    "# Start the plotter\n",
    "START_PLOTTER()"
   ]
  },
  {
   "cell_type": "markdown",
   "metadata": {},
   "source": [
    "# The RealRobot class\n",
    "Define the RealRobot class in the code cell below, based on the documentation and your real robot communication protocol. <br>\n",
    "This class is used by the **Localization** class to communicate with the real robot. <br>\n",
    "More specifically, the **Localization** class utilizes the **RealRobot's** member function **perform_observation_loop()** to get the 18 sensor readings and store them in its member variable **obs_range_data**, which is then utilized in the update step."
   ]
  },
  {
   "cell_type": "code",
   "execution_count": null,
   "metadata": {
    "tags": []
   },
   "outputs": [],
   "source": [
    "class RealRobot():\n",
    "    \"\"\"A class to interact with the real robot\n",
    "    \"\"\"\n",
    "    def __init__(self, commander, ble):\n",
    "        # Load world config\n",
    "        self.world_config = os.path.join(str(pathlib.Path(os.getcwd()).parent), \"config\", \"world.yaml\")\n",
    "        \n",
    "        self.config_params = load_config_params(self.world_config)\n",
    "        \n",
    "        # Commander to commuincate with the Plotter process\n",
    "        # Used by the Localization module to plot odom and belief\n",
    "        self.cmdr = commander\n",
    "\n",
    "        # ArtemisBLEController to communicate with the Robot\n",
    "        self.ble = ble\n",
    "    \n",
    "    def set_pose(self, pose):\n",
    "        self.current_gt = pose\n",
    "\n",
    "    def get_pose(self):\n",
    "        \"\"\"Get robot pose based on odometry\n",
    "        \n",
    "        Returns:\n",
    "            current_odom -- Odometry Pose (meters, meters, degrees)\n",
    "            current_gt   -- Ground Truth Pose (meters, meters, degrees)\n",
    "        \"\"\"\n",
    "        return np.array([]), np.array(self.current_gt)\n",
    "\n",
    "    async def perform_observation_loop(self, rot_vel=120):\n",
    "        \"\"\"Perform the observation loop behavior on the real robot, where the robot does  \n",
    "        a 360 degree turn in place while collecting equidistant (in the angular space) sensor\n",
    "        readings, with the first sensor reading taken at the robot's current heading. \n",
    "        The number of sensor readings depends on \"observations_count\"(=18) defined in world.yaml.\n",
    "        \n",
    "        Keyword arguments:\n",
    "            rot_vel -- (Optional) Angular Velocity for loop (degrees/second)\n",
    "                        Do not remove this parameter from the function definition, even if you don't use it.\n",
    "        Returns:\n",
    "            sensor_ranges   -- A column numpy array of the range values (meters)\n",
    "            sensor_bearings -- A column numpy array of the bearings at which the sensor readings were taken (degrees)\n",
    "                               The bearing values are not used in the Localization module, so you may return a empty numpy array\n",
    "        \"\"\"\n",
    "        \n",
    "        calibrate_s = 0.0\n",
    "        max_angle = 360.0\n",
    "        delta_angle = 20.0\n",
    "        tolerance = 1.0\n",
    "        min_pid = tolerance\n",
    "        max_pid = delta_angle + 2 * tolerance\n",
    "        min_motor = 100\n",
    "        max_motor = 140\n",
    "        k_p = -1.0\n",
    "        k_i = -0.5\n",
    "        k_d = 0.0\n",
    "        self.ble.send_command(CMD.JUST_MAP, f\"{int(calibrate_s*1000)}|{max_angle}|{delta_angle}|{tolerance}|{min_pid}|{max_pid}|{min_motor}|{max_motor}|{k_p}|{k_i}|{k_d}\")\n",
    "        \n",
    "        await asyncio.sleep(30)\n",
    "        \n",
    "        fut = ble_rx_stream(ble, 'RX_STREAM')\n",
    "        self.ble.send_command(CMD.DATA_MAP, \"\")\n",
    "        stream_map = list(unpack_stream('LfH*', await fut))\n",
    "        \n",
    "        map_data = np.array(stream_map)\n",
    "        # map_time = map_data[:, 0] / 1000\n",
    "        # map_angl = map_data[:, 1]\n",
    "        map_dist = map_data[:, 2] / 1000\n",
    "        \n",
    "        return map_dist[::-1][np.newaxis].T, np.array([])"
   ]
  },
  {
   "cell_type": "code",
   "execution_count": null,
   "metadata": {
    "tags": []
   },
   "outputs": [],
   "source": [
    "# Initialize RealRobot with a Commander object to communicate with the plotter process\n",
    "# and the ArtemisBLEController object to communicate with the real robot\n",
    "robot = RealRobot(cmdr, ble)\n",
    "\n",
    "# Initialize mapper\n",
    "# Requires a VirtualRobot object as a parameter\n",
    "mapper = Mapper(robot)\n",
    "\n",
    "# Initialize your BaseLocalization object\n",
    "# Requires a RealRobot object and a Mapper object as parameters\n",
    "loc = Localization(robot, mapper)\n",
    "\n",
    "## Plot Map\n",
    "cmdr.plot_map()"
   ]
  },
  {
   "cell_type": "code",
   "execution_count": null,
   "metadata": {
    "tags": []
   },
   "outputs": [],
   "source": [
    "waypoints = np.array([\n",
    "    (-4, -3, 0),\n",
    "    (-2, -1, 0),\n",
    "    ( 1, -1, 0),\n",
    "    ( 2, -3, 0),\n",
    "    ( 5, -3, 0),\n",
    "    ( 5, -2, 0),\n",
    "    ( 5,  3, 0),\n",
    "    ( 0,  3, 0),\n",
    "    ( 0,  0, 0),\n",
    "]) * 0.3048\n",
    "# at each waypoint, point to the next one\n",
    "waypoints[:-1,2] = np.degrees(np.arctan2(waypoints[1:,1] - waypoints[:-1,1], waypoints[1:,0] - waypoints[:-1,0]))\n",
    "# last waypoint doesn't need to turn\n",
    "waypoints[-1,2] = waypoints[-2,2]"
   ]
  },
  {
   "cell_type": "code",
   "execution_count": null,
   "metadata": {
    "tags": []
   },
   "outputs": [],
   "source": [
    "async def execute_and_observe(delta_rot_1, delta_trans, delta_rot_2):\n",
    "    # First rotation\n",
    "    calibrate_s = 0.0\n",
    "    delta_angle = delta_rot_1\n",
    "    tolerance = 1.0\n",
    "    min_pid = tolerance\n",
    "    max_pid = delta_angle + 2 * tolerance\n",
    "    min_motor = 120\n",
    "    max_motor = 160\n",
    "    k_p = -1.0\n",
    "    k_i = -0.5\n",
    "    k_d = 0.0\n",
    "    ble.send_command(CMD.ROTATE, f\"{int(calibrate_s*1000)}|{delta_angle}|{tolerance}|{min_pid}|{max_pid}|{min_motor}|{max_motor}|{k_p}|{k_i}|{k_d}\")\n",
    "    \n",
    "    # Translation\n",
    "    delta_distance_m = delta_trans\n",
    "    tolerance_mm = 50\n",
    "    min_pid = tolerance_mm\n",
    "    max_pid = delta_distance_m + 2 * tolerance_mm\n",
    "    min_motor = 60\n",
    "    max_motor = 100\n",
    "    k_p = 1.0\n",
    "    k_i = 0.0\n",
    "    k_d = 0.0\n",
    "    ble.send_command(CMD.DRIVE, f\"{int(delta_distance_m*1000)}|{int(tolerance_mm)}|{min_pid}|{max_pid}|{min_motor}|{max_motor}|{k_p}|{k_i}|{k_d}\")\n",
    "    \n",
    "    # Second rotation\n",
    "    calibrate_s = 0.0\n",
    "    delta_angle = delta_rot_2\n",
    "    tolerance = 1.0\n",
    "    min_pid = tolerance\n",
    "    max_pid = delta_angle + 2 * tolerance\n",
    "    min_motor = 120\n",
    "    max_motor = 160\n",
    "    k_p = -1.0\n",
    "    k_i = -0.5\n",
    "    k_d = 0.0\n",
    "    ble.send_command(CMD.ROTATE, f\"{int(calibrate_s*1000)}|{delta_angle}|{tolerance}|{min_pid}|{max_pid}|{min_motor}|{max_motor}|{k_p}|{k_i}|{k_d}\")\n",
    "    \n",
    "    # Get Observation Data by executing a 360 degree rotation motion\n",
    "    await loc.get_observation_data()"
   ]
  },
  {
   "cell_type": "code",
   "execution_count": null,
   "metadata": {
    "tags": []
   },
   "outputs": [],
   "source": [
    "# Reset Plots\n",
    "cmdr.reset_plotter()\n",
    "\n",
    "# Calibrate gyroscope\n",
    "calibrate_s = 1.5\n",
    "ble.send_command(CMD.CALIBRATE, f\"{int(calibrate_s*1000)}\")\n",
    "\n",
    "# Init Point Mass Belief at start point\n",
    "current_gt = np.array([waypoints[0,0], waypoints[0,1], 0])\n",
    "loc.init_point_mass_distribution(*current_gt)\n",
    "robot.set_pose(current_gt)\n",
    "\n",
    "# Get Observation Data by executing a 360 degree rotation motion\n",
    "await loc.get_observation_data()\n",
    "\n",
    "# Run Update Step\n",
    "loc.update_step()\n",
    "pos_error = loc.print_update_stats(plot_data=False)\n",
    "\n",
    "# Plot Belief and GT (i.e. waypoint)\n",
    "current_bel = current_gt - pos_error\n",
    "cmdr.plot_gt(current_gt[0], current_gt[1])\n",
    "cmdr.plot_bel(current_bel[0], current_bel[1])"
   ]
  },
  {
   "cell_type": "code",
   "execution_count": null,
   "metadata": {
    "tags": []
   },
   "outputs": [],
   "source": [
    "# Run through each motion steps\n",
    "for t in range(1, 9):\n",
    "    print(\"\\n\\n-----------------\", t, \"-----------------\")\n",
    "    \n",
    "    current_gt = waypoints[t,:]\n",
    "    robot.set_pose(current_gt)\n",
    "    \n",
    "    # Create a turn-go-turn plan, Move the robot along the plan, and get Observation data\n",
    "    plan = loc.compute_control(current_gt, current_bel)\n",
    "    observation_fut = asyncio.create_task(execute_and_observe(*plan))\n",
    "    await asyncio.sleep(0) # allow scheduler to run\n",
    "    \n",
    "    # Prediction Step\n",
    "    loc.prediction_step(current_gt, current_bel)\n",
    "    loc.print_prediction_stats(plot_data=False)\n",
    "    \n",
    "    # Update Step\n",
    "    await observation_fut\n",
    "    loc.update_step()\n",
    "    pos_error = loc.print_update_stats(plot_data=False)\n",
    "    current_bel = current_gt - pos_error\n",
    "    cmdr.plot_gt(current_gt[0], current_gt[1])\n",
    "    cmdr.plot_bel(current_bel[0], current_bel[1])\n",
    "\n",
    "# Uncomment the below line to wait for keyboard input between each iteration.\n",
    "#   input(\"Press Enter to Continue\")\n",
    "        \n",
    "    print(\"-------------------------------------\")"
   ]
  },
  {
   "cell_type": "markdown",
   "metadata": {},
   "source": [
    "# Just PID Control"
   ]
  },
  {
   "cell_type": "code",
   "execution_count": null,
   "metadata": {
    "tags": []
   },
   "outputs": [],
   "source": [
    "# Calibrate gyroscope\n",
    "calibrate_s = 1.5\n",
    "ble.send_command(CMD.CALIBRATE, f\"{int(calibrate_s*1000)}\")\n",
    "\n",
    "# Init Point Mass Belief at start point\n",
    "current_gt = np.array([waypoints[0,0], waypoints[0,1], 0])\n",
    "robot.set_pose(current_gt)\n",
    "\n",
    "current_bel = current_gt"
   ]
  },
  {
   "cell_type": "code",
   "execution_count": null,
   "metadata": {
    "tags": []
   },
   "outputs": [],
   "source": [
    "# Run through each motion steps\n",
    "for t in range(1, 9):\n",
    "    print(\"\\n\\n-----------------\", t, \"-----------------\")\n",
    "    \n",
    "    current_gt = waypoints[t,:]\n",
    "    robot.set_pose(current_gt)\n",
    "    \n",
    "    # Create a turn-go-turn plan, Move the robot along the plan, and get Observation data\n",
    "    delta_rot_1, delta_trans, delta_rot_2 = loc.compute_control(current_gt, current_bel)\n",
    "    \n",
    "    # First rotation\n",
    "    calibrate_s = 0.0\n",
    "    delta_angle = delta_rot_1\n",
    "    tolerance = 1.0\n",
    "    min_pid = tolerance\n",
    "    max_pid = delta_angle + 2 * tolerance\n",
    "    min_motor = 100\n",
    "    max_motor = 140\n",
    "    k_p = 1.0\n",
    "    k_i = 0.5\n",
    "    k_d = 0.0\n",
    "    ble.send_command(CMD.ROTATE, f\"{int(calibrate_s*1000)}|{delta_angle}|{tolerance}|{min_pid}|{max_pid}|{min_motor}|{max_motor}|{k_p}|{k_i}|{k_d}\")\n",
    "    \n",
    "    # Translation\n",
    "    delta_distance_m = delta_trans\n",
    "    tolerance_mm = 50\n",
    "    min_pid = tolerance_mm\n",
    "    max_pid = delta_distance_m * 1000 + 2 * tolerance_mm\n",
    "    min_motor = 80\n",
    "    max_motor = 100\n",
    "    k_p = 1.0\n",
    "    k_i = 0.0\n",
    "    k_d = 0.0\n",
    "    ble.send_command(CMD.DRIVE, f\"{int(delta_distance_m*1000)}|{int(tolerance_mm)}|{min_pid}|{max_pid}|{min_motor}|{max_motor}|{k_p}|{k_i}|{k_d}\")\n",
    "    \n",
    "    # Second rotation\n",
    "    calibrate_s = 0.0\n",
    "    delta_angle = delta_rot_2\n",
    "    tolerance = 1.0\n",
    "    min_pid = tolerance\n",
    "    max_pid = delta_angle + 2 * tolerance\n",
    "    min_motor = 100\n",
    "    max_motor = 140\n",
    "    k_p = 1.0\n",
    "    k_i = 0.5\n",
    "    k_d = 0.0\n",
    "    ble.send_command(CMD.ROTATE, f\"{int(calibrate_s*1000)}|{delta_angle}|{tolerance}|{min_pid}|{max_pid}|{min_motor}|{max_motor}|{k_p}|{k_i}|{k_d}\")\n",
    "    \n",
    "    current_bel = current_gt\n",
    "\n",
    "# Uncomment the below line to wait for keyboard input between each iteration.\n",
    "    input(\"Press Enter to Continue\")\n",
    "        \n",
    "    print(\"-------------------------------------\")\n",
    "\n",
    "ble.write(ble.uuid['TX_PWM_LONG'], (0).to_bytes(4, 'little'))"
   ]
  },
  {
   "cell_type": "markdown",
   "metadata": {},
   "source": [
    "## Step-by-Step"
   ]
  },
  {
   "cell_type": "code",
   "execution_count": null,
   "metadata": {},
   "outputs": [],
   "source": [
    "calibrate_s = 1.0\n",
    "delta_angle = 45\n",
    "tolerance = 1.0\n",
    "min_pid = tolerance\n",
    "max_pid = delta_angle + 2 * tolerance\n",
    "min_motor = 100\n",
    "max_motor = 140\n",
    "k_p = 1.0\n",
    "k_i = 0.5\n",
    "k_d = 0.0\n",
    "ble.send_command(CMD.ROTATE, f\"{int(calibrate_s*1000)}|{delta_angle}|{tolerance}|{min_pid}|{max_pid}|{min_motor}|{max_motor}|{k_p}|{k_i}|{k_d}\")"
   ]
  },
  {
   "cell_type": "code",
   "execution_count": null,
   "metadata": {},
   "outputs": [],
   "source": [
    "delta_distance_m = 0.6\n",
    "tolerance_mm = 50\n",
    "min_pid = tolerance_mm\n",
    "max_pid = delta_distance_m * 1000 + 2 * tolerance_mm\n",
    "min_motor = 80\n",
    "max_motor = 100\n",
    "k_p = 1.0\n",
    "k_i = 0.0\n",
    "k_d = 0.0\n",
    "ble.send_command(CMD.DRIVE, f\"{int(delta_distance_m*1000)}|{int(tolerance_mm)}|{min_pid}|{max_pid}|{min_motor}|{max_motor}|{k_p}|{k_i}|{k_d}\")"
   ]
  },
  {
   "cell_type": "code",
   "execution_count": null,
   "metadata": {},
   "outputs": [],
   "source": [
    "calibrate_s = 1.0\n",
    "delta_angle = -45\n",
    "tolerance = 1.0\n",
    "min_pid = tolerance\n",
    "max_pid = delta_angle + 2 * tolerance\n",
    "min_motor = 100\n",
    "max_motor = 140\n",
    "k_p = 1.0\n",
    "k_i = 0.5\n",
    "k_d = 0.0\n",
    "ble.send_command(CMD.ROTATE, f\"{int(calibrate_s*1000)}|{delta_angle}|{tolerance}|{min_pid}|{max_pid}|{min_motor}|{max_motor}|{k_p}|{k_i}|{k_d}\")"
   ]
  },
  {
   "cell_type": "markdown",
   "metadata": {},
   "source": [
    "# Open Loop Control"
   ]
  },
  {
   "cell_type": "code",
   "execution_count": null,
   "metadata": {},
   "outputs": [],
   "source": [
    "def send_motor(ble, fwd_1=0, bck_1=0, fwd_2=0, bck_2=0):\n",
    "    return ble.write(ble.uuid['TX_PWM_LONG'], bytearray([fwd_1, bck_1, fwd_2, bck_2]))\n",
    "\n",
    "def go_fwd(power, delay):\n",
    "    send_motor(ble, power, 0, power, 0)\n",
    "    time.sleep(delay)\n",
    "    send_motor(ble, 0, 0, 0, 0)\n",
    "def go_bck(power, delay):\n",
    "    send_motor(ble, 0, power, 0, power)\n",
    "    time.sleep(delay)\n",
    "    send_motor(ble, 0, 0, 0, 0)\n",
    "def turn_r(power, delay):\n",
    "    send_motor(ble, 0, power, power, 0)\n",
    "    time.sleep(delay)\n",
    "    send_motor(ble, 0, 0, 0, 0)\n",
    "def turn_l(power, delay):\n",
    "    send_motor(ble, power, 0, 0, power)\n",
    "    time.sleep(delay)\n",
    "    send_motor(ble, 0, 0, 0, 0)"
   ]
  },
  {
   "cell_type": "code",
   "execution_count": null,
   "metadata": {},
   "outputs": [],
   "source": [
    "go_fwd(80, 0.3)"
   ]
  },
  {
   "cell_type": "code",
   "execution_count": null,
   "metadata": {},
   "outputs": [],
   "source": [
    "turn_l(130, 0.2)"
   ]
  },
  {
   "cell_type": "code",
   "execution_count": null,
   "metadata": {},
   "outputs": [],
   "source": [
    "turn_r(130, 0.2)"
   ]
  }
 ],
 "metadata": {
  "kernelspec": {
   "display_name": "Python 3 (ipykernel)",
   "language": "python",
   "name": "python3"
  },
  "language_info": {
   "codemirror_mode": {
    "name": "ipython",
    "version": 3
   },
   "file_extension": ".py",
   "mimetype": "text/x-python",
   "name": "python",
   "nbconvert_exporter": "python",
   "pygments_lexer": "ipython3",
   "version": "3.9.2"
  }
 },
 "nbformat": 4,
 "nbformat_minor": 4
}
